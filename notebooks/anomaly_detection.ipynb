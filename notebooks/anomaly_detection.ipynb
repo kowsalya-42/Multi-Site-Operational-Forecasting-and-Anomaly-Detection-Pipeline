{
 "cells": [
  {
   "cell_type": "code",
   "execution_count": 5,
   "id": "99b65afd",
   "metadata": {},
   "outputs": [],
   "source": [
    "import os\n",
    "import pandas as pd\n",
    "import numpy as np\n",
    "\n",
    "# Load daily data\n",
    "df = pd.read_csv(r'D:\\kowsi\\project_works\\Advanced_Forecasting_Anomaly_Detection\\logic_leap_horizon_datasets\\operations_daily_365d.csv')\n",
    "df['date'] = pd.to_datetime(df['date'])\n"
   ]
  },
  {
   "cell_type": "code",
   "execution_count": 6,
   "id": "975949b2",
   "metadata": {},
   "outputs": [
    {
     "name": "stdout",
     "output_type": "stream",
     "text": [
      "Empty DataFrame\n",
      "Columns: [site_id, date, downtime_minutes, downtime_zscore]\n",
      "Index: []\n"
     ]
    }
   ],
   "source": [
    "\n",
    "# Sort by site and date\n",
    "df = df.sort_values(['site_id', 'date'])\n",
    "\n",
    "# Calculate rolling mean and std deviation for downtime_minutes for each site with window size 7\n",
    "df['downtime_roll_mean'] = df.groupby('site_id')['downtime_minutes'].transform(lambda x: x.rolling(7, 1).mean())\n",
    "df['downtime_roll_std'] = df.groupby('site_id')['downtime_minutes'].transform(lambda x: x.rolling(7, 1).std())\n",
    "\n",
    "# Calculate Z-score for downtime\n",
    "df['downtime_zscore'] = (df['downtime_minutes'] - df['downtime_roll_mean']) / df['downtime_roll_std']\n",
    "\n",
    "# Flag anomalies where absolute Z-score exceeds threshold (e.g., 3)\n",
    "df['anomaly'] = df['downtime_zscore'].abs() > 3\n",
    "\n",
    "# Create alerts DataFrame with relevant columns\n",
    "alerts = df[df['anomaly']][['site_id', 'date', 'downtime_minutes', 'downtime_zscore']]\n",
    "\n",
    "# Ensure 'outputs' directory exists\n",
    "output_dir = r'D:\\kowsi\\project_works\\Advanced_Forecasting_Anomaly_Detection\\outputs'\n",
    "os.makedirs(output_dir, exist_ok=True)\n",
    "\n",
    "# Save alerts to CSV\n",
    "alerts.to_csv(os.path.join(output_dir, 'alerts.csv'), index=False)\n",
    "\n",
    "# Display first few rows of alerts\n",
    "print(alerts.head())\n"
   ]
  },
  {
   "cell_type": "code",
   "execution_count": null,
   "id": "6f2dc0cf",
   "metadata": {},
   "outputs": [],
   "source": []
  }
 ],
 "metadata": {
  "kernelspec": {
   "display_name": "venv",
   "language": "python",
   "name": "python3"
  },
  "language_info": {
   "codemirror_mode": {
    "name": "ipython",
    "version": 3
   },
   "file_extension": ".py",
   "mimetype": "text/x-python",
   "name": "python",
   "nbconvert_exporter": "python",
   "pygments_lexer": "ipython3",
   "version": "3.12.4"
  }
 },
 "nbformat": 4,
 "nbformat_minor": 5
}
