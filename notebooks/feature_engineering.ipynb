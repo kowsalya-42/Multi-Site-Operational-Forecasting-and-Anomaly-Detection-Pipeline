{
 "cells": [
  {
   "cell_type": "code",
   "execution_count": 1,
   "id": "58bed3a5",
   "metadata": {},
   "outputs": [],
   "source": [
    "import pandas as pd\n",
    "\n",
    "# Load and preprocess\n",
    "ops_daily = pd.read_csv(r'D:\\kowsi\\project_works\\Advanced_Forecasting_Anomaly_Detection\\logic_leap_horizon_datasets\\operations_daily_365d.csv')\n",
    "site_meta = pd.read_csv(r'D:\\kowsi\\project_works\\Advanced_Forecasting_Anomaly_Detection\\logic_leap_horizon_datasets\\site_meta.csv')\n"
   ]
  },
  {
   "cell_type": "code",
   "execution_count": 2,
   "id": "5149566c",
   "metadata": {},
   "outputs": [],
   "source": [
    "\n",
    "ops_daily['date'] = pd.to_datetime(ops_daily['date'])\n"
   ]
  },
  {
   "cell_type": "code",
   "execution_count": 3,
   "id": "a45ef2d5",
   "metadata": {},
   "outputs": [],
   "source": [
    "\n",
    "# Drop zero production/power rows as non-operational\n",
    "ops_daily = ops_daily[(ops_daily['units_produced'] > 0) & (ops_daily['power_kwh'] > 0)]\n"
   ]
  },
  {
   "cell_type": "code",
   "execution_count": 4,
   "id": "ff82bc34",
   "metadata": {},
   "outputs": [],
   "source": [
    "\n",
    "# Merge site meta data\n",
    "df = ops_daily.merge(site_meta, on='site_id', how='left')\n"
   ]
  },
  {
   "cell_type": "code",
   "execution_count": 5,
   "id": "1da770f7",
   "metadata": {},
   "outputs": [],
   "source": [
    "\n",
    "# Create time-based features\n",
    "df['day_of_week'] = df['date'].dt.dayofweek\n",
    "df['month'] = df['date'].dt.month\n",
    "df['week_of_year'] = df['date'].dt.isocalendar().week\n"
   ]
  },
  {
   "cell_type": "code",
   "execution_count": 6,
   "id": "4b600c7f",
   "metadata": {},
   "outputs": [],
   "source": [
    "\n",
    "# Lag features (previous day units produced)\n",
    "df = df.sort_values(['site_id', 'date'])\n",
    "df['units_produced_lag1'] = df.groupby('site_id')['units_produced'].shift(1)\n",
    "df['power_kwh_lag1'] = df.groupby('site_id')['power_kwh'].shift(1)\n"
   ]
  },
  {
   "cell_type": "code",
   "execution_count": 7,
   "id": "9ed0cb8c",
   "metadata": {},
   "outputs": [],
   "source": [
    "\n",
    "# Rolling mean features (7-day)\n",
    "df['units_produced_roll7'] = df.groupby('site_id')['units_produced'].rolling(7).mean().reset_index(0,drop=True)\n",
    "df['power_kwh_roll7'] = df.groupby('site_id')['power_kwh'].rolling(7).mean().reset_index(0,drop=True)\n"
   ]
  },
  {
   "cell_type": "code",
   "execution_count": 8,
   "id": "3ba6dce4",
   "metadata": {},
   "outputs": [],
   "source": [
    "\n",
    "# Fill lag and rolling nulls\n",
    "df.fillna(0, inplace=True)\n"
   ]
  },
  {
   "cell_type": "code",
   "execution_count": 11,
   "id": "c2c25d2d",
   "metadata": {},
   "outputs": [
    {
     "name": "stdout",
     "output_type": "stream",
     "text": [
      "        date site_id  units_produced  downtime_minutes  power_kwh  \\\n",
      "0 2025-01-01      S1            1280                34       4211   \n",
      "1 2025-01-02      S1            1249               193       5471   \n",
      "2 2025-01-03      S1            1163                43       4178   \n",
      "3 2025-01-04      S1            1348                32       4554   \n",
      "4 2025-01-06      S1            1367                85       4440   \n",
      "\n",
      "   rework_units  defects_ppm  staff_count  material_cost_per_unit  \\\n",
      "0            27          453           56                   71.94   \n",
      "1            40          480           55                   71.87   \n",
      "2            33          454           53                   72.04   \n",
      "3            35          387           54                   72.26   \n",
      "4            37          562           57                   72.28   \n",
      "\n",
      "   price_per_unit  ...  region  commissioned_year  shift_hours_per_day  \\\n",
      "0           96.04  ...   South               2018                   20   \n",
      "1           95.90  ...   South               2018                   20   \n",
      "2           96.11  ...   South               2018                   20   \n",
      "3           95.99  ...   South               2018                   20   \n",
      "4           95.64  ...   South               2018                   20   \n",
      "\n",
      "  day_of_week  month  week_of_year  units_produced_lag1  power_kwh_lag1  \\\n",
      "0           2      1             1                  0.0             0.0   \n",
      "1           3      1             1               1280.0          4211.0   \n",
      "2           4      1             1               1249.0          5471.0   \n",
      "3           5      1             1               1163.0          4178.0   \n",
      "4           0      1             2               1348.0          4554.0   \n",
      "\n",
      "   units_produced_roll7  power_kwh_roll7  \n",
      "0                   0.0              0.0  \n",
      "1                   0.0              0.0  \n",
      "2                   0.0              0.0  \n",
      "3                   0.0              0.0  \n",
      "4                   0.0              0.0  \n",
      "\n",
      "[5 rows x 23 columns]\n"
     ]
    }
   ],
   "source": [
    "\n",
    "# Save engineered features for modeling\n",
    "df.to_csv(r'D:\\kowsi\\project_works\\Advanced_Forecasting_Anomaly_Detection\\outputs\\engineered_features.csv', index=False)\n",
    "\n",
    "print(df.head())\n"
   ]
  },
  {
   "cell_type": "code",
   "execution_count": null,
   "id": "98ee3f47",
   "metadata": {},
   "outputs": [],
   "source": []
  },
  {
   "cell_type": "code",
   "execution_count": null,
   "id": "baf92cd3",
   "metadata": {},
   "outputs": [],
   "source": []
  }
 ],
 "metadata": {
  "kernelspec": {
   "display_name": "venv",
   "language": "python",
   "name": "python3"
  },
  "language_info": {
   "codemirror_mode": {
    "name": "ipython",
    "version": 3
   },
   "file_extension": ".py",
   "mimetype": "text/x-python",
   "name": "python",
   "nbconvert_exporter": "python",
   "pygments_lexer": "ipython3",
   "version": "3.12.4"
  },
  "nbformat": 4,
  "nbformat_minor": 5
 },
 "nbformat": 4,
 "nbformat_minor": 5
}
